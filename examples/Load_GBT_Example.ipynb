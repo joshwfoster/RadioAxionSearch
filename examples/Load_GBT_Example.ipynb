{
 "cells": [
  {
   "cell_type": "code",
   "execution_count": 1,
   "metadata": {},
   "outputs": [],
   "source": [
    "# Import basics\n",
    "import sys, os\n",
    "import numpy as np\n",
    "\n",
    "sys.path.append('../python/')\n",
    "import load\n",
    "\n",
    "from scipy import stats, ndimage, interpolate\n",
    "import matplotlib as mpl\n",
    "import matplotlib.pyplot as plt\n",
    "\n",
    "# Plotting Settings\n",
    "mpl.rcParams['axes.labelsize'] = 24 # default figure size\n",
    "mpl.rcParams['font.family'] = 'serif'\n",
    "mpl.rcParams['font.serif'] = 'CMU Serif'\n",
    "mpl.rcParams['font.sans-serif'] = 'CMU Sans Serif, DejaVu Sans, Bitstream Vera Sans, Lucida Grande, Verdana, Geneva, Lucid, Arial, Helvetica, Avant Garde, sans-serif'\n",
    "mpl.rcParams['text.usetex'] = True\n",
    "mpl.rcParams['xtick.labelsize'] = 20\n",
    "mpl.rcParams['ytick.labelsize'] = 20\n"
   ]
  },
  {
   "cell_type": "markdown",
   "metadata": {},
   "source": [
    "# Raw and Calibrated Observational Data\n",
    "\n",
    "## Load and Downbin the Raw Observation Data\n",
    "The time-integreated GBT data are provided at full-frequency resolution as nupmy dictionaries for each observation target and each subband. The data without time-series filtering is found in `../data/GBT_DATA/Unfiltered_Data/`. The data with time-series filtering is found in `../data/GBT_DATA/Filtered_Data/`\n",
    "\n",
    "A utility module for loading and joining the GBT data `load` is provided in `'../python/'`. To load the data, provide the data directory and observation identification as arguments in `load.load`. The data may be downbinned using the `downsample` optional argument and shifted half the downbinned frequency channel width with the `do_shift` optional argument. Our analysis is performed at a downsampling factor of `10`."
   ]
  },
  {
   "cell_type": "code",
   "execution_count": 2,
   "metadata": {},
   "outputs": [
    {
     "name": "stdout",
     "output_type": "stream",
     "text": [
      "M31_A.npz\n"
     ]
    }
   ],
   "source": [
    "M31_Data = load.load('../data/GBT_Data/Filtered_Data/', 'M31', downsample = 1, do_shift = False)\n",
    "\n",
    "M31_Freqs = M31_Data[0]  # The central frequency for each frequency channel, GHz\n",
    "M31_AntennaTemp = M31_Data[1] # The antenna temperature at each frequency channel, K\n",
    "M31_Sig = M31_Data[2] # The ON Position measurement for each frequency channel, Raw Antenna Counts\n",
    "M31_Ref = M31_Data[3] # The OFF Position measurement for each frequency channel, Raw Antenna Counts\n",
    "M31_SigAccept = M31_Data[4] # The fraction of ON Position measurements accepted at each frequency channnel\n",
    "M31_RefAccept = M31_Data[5] # The fraction of OFF Position measurements accepted at each frequency channnel\n"
   ]
  },
  {
   "cell_type": "markdown",
   "metadata": {},
   "source": [
    "## Infer a Calibration Function\n",
    "\n",
    "Identically formatted GBT with observations of calibration sources used to infer a flux density spectrum from the antenna temperature are provided in the GBT data directory. Each target observation has a matching calibration observation from the same observing session in the same mode. The table below provides the appropriate calibration observation for each target observation.\n",
    "\n",
    "\n",
    "| Observation Target | Calibration Observation |\n",
    "| ------------- | ------------- |\n",
    "| RX$-$J0720 | 3C48_mode9 |\n",
    "| RX$-$J0806 | 3C48_mode9|\n",
    "| M31 | 3C48_mode2 |\n",
    "| Galactic Center | 3C286_mode2 |\n",
    "| Galactic Center Offset | 3C286_mode2|\n",
    "| M54 | 3C286_mode4 |\n",
    "\n",
    "\n",
    "\n",
    "The calibration observations corresponds to sources with well-characterized flux density spectra so that the antenna temperature may be calibrated against the expected flux density measurement.  The calibration antenna temperature is first smoothed with a median filter in order to improve the signal-to-noise, resulting in a better behaved calibration function."
   ]
  },
  {
   "cell_type": "code",
   "execution_count": 3,
   "metadata": {},
   "outputs": [
    {
     "name": "stdout",
     "output_type": "stream",
     "text": [
      "3C48_mode2_A.npz\n"
     ]
    }
   ],
   "source": [
    "Cal_Data = load.load('../data/GBT_Data/Filtered_Data/', '3C48_mode2', downsample = 1, do_shift = False)\n",
    "\n",
    "Cal_Freqs = Cal_Data[0]  # The central frequency for each frequency channel, GHz\n",
    "Cal_AntennaTemp = Cal_Data[1] # The antenna temperature at each frequency channel, K\n",
    "\n",
    "Cal_Func = load.get_expected(Cal_Freqs, '3C48') / ndimage.median_filter(Cal_AntennaTemp, size = 31)"
   ]
  },
  {
   "cell_type": "markdown",
   "metadata": {},
   "source": [
    "## Reduce the Data\n",
    "\n",
    "The raw data is provided at frequencies outside the data-taking range for each observation. Following GBT documentation, the LBand should be reduced to the frequency range `1.15 - 1.73 GHz`. We also mask out data at the location of the notch filter in the frequency range `1.2  - 1.35 GHz`."
   ]
  },
  {
   "cell_type": "code",
   "execution_count": 4,
   "metadata": {},
   "outputs": [],
   "source": [
    "locs = np.where(np.logical_and(M31_Freqs >= 1.15, M31_Freqs <= 1.73))\n",
    "\n",
    "for item in [M31_Freqs, M31_AntennaTemp, M31_Sig, M31_Ref, M31_SigAccept, M31_RefAccept, Cal_Func]:\n",
    "    item = item[locs]\n",
    "\n",
    "mask_locs = np.where(np.logical_and(M31_Freqs >= 1.2, M31_Freqs <= 1.34))\n",
    "mask = np.ones_like(M31_Freqs)\n",
    "mask[mask_locs] = np.nan"
   ]
  },
  {
   "cell_type": "markdown",
   "metadata": {},
   "source": [
    "## Plot the Calibrated Flux Density Spectra"
   ]
  },
  {
   "cell_type": "code",
   "execution_count": 5,
   "metadata": {},
   "outputs": [
    {
     "name": "stderr",
     "output_type": "stream",
     "text": [
      "/sw/lsa/centos7/python-anaconda2/2019.03/lib/python2.7/site-packages/matplotlib/font_manager.py:1331: UserWarning: findfont: Font family [u'serif'] not found. Falling back to DejaVu Sans\n",
      "  (prop.get_family(), self.defaultFamily[fontext]))\n"
     ]
    },
    {
     "data": {
      "image/png": "[encoded data removed]",
      "text/plain": [
       "<Figure size 720x432 with 1 Axes>"
      ]
     },
     "metadata": {
      "needs_background": "light"
     },
     "output_type": "display_data"
    }
   ],
   "source": [
    "mpl.rcParams['figure.figsize'] = 10, 6 # default figure size\n",
    "\n",
    "\n",
    "plt.plot(M31_Freqs, mask*(Cal_Func * M31_AntennaTemp), label = 'M31')\n",
    "\n",
    "plt.xlabel('Frequency [GHz]')\n",
    "plt.ylabel('Flux Density [Jy]')\n",
    "\n",
    "plt.legend(fontsize = 20)\n",
    "plt.tight_layout()\n",
    "plt.show()"
   ]
  }
 ],
 "metadata": {
  "kernelspec": {
   "display_name": "Python 2",
   "language": "python",
   "name": "python2"
  },
  "language_info": {
   "codemirror_mode": {
    "name": "ipython",
    "version": 2
   },
   "file_extension": ".py",
   "mimetype": "text/x-python",
   "name": "python",
   "nbconvert_exporter": "python",
   "pygments_lexer": "ipython2",
   "version": "2.7.16"
  }
 },
 "nbformat": 4,
 "nbformat_minor": 2
}
