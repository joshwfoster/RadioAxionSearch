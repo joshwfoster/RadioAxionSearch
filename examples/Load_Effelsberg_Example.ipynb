{
 "cells": [
  {
   "cell_type": "code",
   "execution_count": 1,
   "metadata": {},
   "outputs": [],
   "source": [
    "# Import basics\n",
    "import sys, os\n",
    "import numpy as np\n",
    "\n",
    "from scipy import stats, ndimage, interpolate\n",
    "import matplotlib as mpl\n",
    "import matplotlib.pyplot as plt\n",
    "\n",
    "# Plotting Settings\n",
    "mpl.rcParams['axes.labelsize'] = 24\n",
    "mpl.rcParams['font.family'] = 'serif'\n",
    "mpl.rcParams['font.serif'] = 'CMU Serif'\n",
    "mpl.rcParams['font.sans-serif'] = 'CMU Sans Serif, DejaVu Sans, Bitstream Vera Sans, Lucida Grande, Verdana, Geneva, Lucid, Arial, Helvetica, Avant Garde, sans-serif'\n",
    "mpl.rcParams['text.usetex'] = True\n",
    "mpl.rcParams['xtick.labelsize'] = 20\n",
    "mpl.rcParams['ytick.labelsize'] = 20\n"
   ]
  },
  {
   "cell_type": "markdown",
   "metadata": {},
   "source": [
    "# Raw and Calibrated Observational Data\n",
    "\n",
    "## Load and Downbin the Raw Data\n",
    "The Effelsberg data are saved in `../data/Effelsberg_Data/` as `numpy` dictionaries `LBand.npz` and `SBand.npz`. Each dictionary contains the time integrated data at each frequency channel in both the ON and OFF Positions. Additionally, we perform a three-fold downbinning to the frequency resolution of our fiducial analysis."
   ]
  },
  {
   "cell_type": "code",
   "execution_count": 2,
   "metadata": {},
   "outputs": [],
   "source": [
    "def downbin(arr, downsample = 3, shift = 0):\n",
    "    arr = np.copy(arr[0:])\n",
    "    \n",
    "    max_index = len(arr) / downsample * downsample\n",
    "    num_intervals = len(arr) / downsample\n",
    "    \n",
    "    return np.mean(arr[:max_index].reshape(num_intervals, downsample), axis = 1)"
   ]
  },
  {
   "cell_type": "code",
   "execution_count": 3,
   "metadata": {},
   "outputs": [],
   "source": [
    "data = np.load('../data/Effelsberg_Data/LBand.npz')['arr_0'].item()\n",
    "\n",
    "LBand_Freqs = downbin(data['Freqs']) # the frequency channel, GHz\n",
    "LBand_On_Data = downbin(data['On_Data']) # the ON-Postion measurement, Raw Antenna Counts\n",
    "LBand_Off_Data = downbin(data['Off_Data']) # the OFF-Postion measurement, Raw Antenna Counts \n",
    "\n",
    "data = np.load('../data/Effelsberg_Data/SBand.npz')['arr_0'].item()\n",
    "\n",
    "SBand_Freqs = downbin(data['Freqs']) # the frequency channel, GHz\n",
    "SBand_On_Data = downbin(data['On_Data']) # the ON-Postion measurement, Raw Antenna Counts\n",
    "SBand_Off_Data = downbin(data['Off_Data']) # the OFF-Postion measurement, Raw Antenna Counts "
   ]
  },
  {
   "cell_type": "markdown",
   "metadata": {},
   "source": [
    "## Reduce the Data\n",
    "\n",
    "The raw data is provided at frequencies outside the data-taking range for each observation. Following Effelsberg documentation, the LBand data should be reduced to the frequency range `1.27 - 1.45 GHz` and the SBand data to `2.4 - 2.7 GHz`. "
   ]
  },
  {
   "cell_type": "code",
   "execution_count": 4,
   "metadata": {},
   "outputs": [],
   "source": [
    "LBand_Locs = np.where(np.logical_and(LBand_Freqs >= 1.27, LBand_Freqs <= 1.45))\n",
    "SBand_Locs = np.where(np.logical_and(SBand_Freqs >= 2.4, SBand_Freqs <= 2.7))\n",
    "\n",
    "LBand_Freqs = LBand_Freqs[LBand_Locs]\n",
    "LBand_On_Data = LBand_On_Data[LBand_Locs]\n",
    "LBand_Off_Data = LBand_Off_Data[LBand_Locs]\n",
    "\n",
    "SBand_Freqs = SBand_Freqs[SBand_Locs]\n",
    "SBand_On_Data = SBand_On_Data[SBand_Locs]\n",
    "SBand_Off_Data = SBand_Off_Data[SBand_Locs]"
   ]
  },
  {
   "cell_type": "markdown",
   "metadata": {},
   "source": [
    "## Obtain the Data Calibrations\n",
    "\n",
    "A frequency-dependent calibration is obtained by normalizing the data to an expected flux density spectrum at the Galactic Center. We emphasize that this calibration is only applied as a final rescaling to our analysis results and for visualization purposes."
   ]
  },
  {
   "cell_type": "code",
   "execution_count": 5,
   "metadata": {},
   "outputs": [],
   "source": [
    "Cal_Freqs, Cal_FD = np.load('../data/Effelsberg_Data/Eff_Cal.npy')\n",
    "\n",
    "SBand_Cal = np.interp(SBand_Freqs, Cal_Freqs, Cal_FD) / ndimage.median_filter(SBand_On_Data, size = 201)\n",
    "LBand_Cal = np.interp(LBand_Freqs, Cal_Freqs, Cal_FD) / ndimage.median_filter(LBand_On_Data, size = 201)"
   ]
  },
  {
   "cell_type": "markdown",
   "metadata": {},
   "source": [
    "## Plot the Calibrated Flux Density Spectra"
   ]
  },
  {
   "cell_type": "code",
   "execution_count": 6,
   "metadata": {},
   "outputs": [
    {
     "name": "stderr",
     "output_type": "stream",
     "text": [
      "/sw/lsa/centos7/python-anaconda2/2019.03/lib/python2.7/site-packages/matplotlib/font_manager.py:1331: UserWarning: findfont: Font family [u'serif'] not found. Falling back to DejaVu Sans\n",
      "  (prop.get_family(), self.defaultFamily[fontext]))\n"
     ]
    },
    {
     "data": {
      "image/png": "[encoded data removed]",
      "text/plain": [
       "<Figure size 720x432 with 1 Axes>"
      ]
     },
     "metadata": {
      "needs_background": "light"
     },
     "output_type": "display_data"
    }
   ],
   "source": [
    "mpl.rcParams['figure.figsize'] = 10, 6\n",
    "\n",
    "\n",
    "plt.plot(LBand_Freqs, LBand_Cal * LBand_On_Data, label = 'Eff. L-Band')\n",
    "plt.plot(SBand_Freqs, SBand_Cal * SBand_On_Data, label = 'Eff. S-Band')\n",
    "\n",
    "plt.xlabel('Frequency [GHz]')\n",
    "plt.ylabel('Flux Density [Jy]')\n",
    "\n",
    "plt.legend(fontsize = 20)\n",
    "plt.tight_layout()\n",
    "plt.show()"
   ]
  }
 ],
 "metadata": {
  "kernelspec": {
   "display_name": "Python 2",
   "language": "python",
   "name": "python2"
  },
  "language_info": {
   "codemirror_mode": {
    "name": "ipython",
    "version": 2
   },
   "file_extension": ".py",
   "mimetype": "text/x-python",
   "name": "python",
   "nbconvert_exporter": "python",
   "pygments_lexer": "ipython2",
   "version": "2.7.16"
  }
 },
 "nbformat": 4,
 "nbformat_minor": 2
}
